{
 "cells": [
  {
   "cell_type": "code",
   "execution_count": 3,
   "metadata": {},
   "outputs": [],
   "source": [
    "#gotalot of dependencies\n",
    "import random\n",
    "import numpy as np\n",
    "import timeit\n",
    "import time\n",
    "import pandas as pd\n",
    "import matplotlib.pyplot as plt\n",
    "from citipy import citipy\n",
    "import requests\n",
    "from config import weather_api_key\n",
    "from datetime import datetime\n",
    "\n",
    "from config import google_api_key as gkey\n",
    "from config import weather_api_key as wea_key"
   ]
  },
  {
   "cell_type": "code",
   "execution_count": null,
   "metadata": {},
   "outputs": [],
   "source": [
    "# Create a set of random latitude and longitude combinations.\n",
    "lats = np.random.uniform(low=-90.000, high=90.000, size=2000)\n",
    "lngs = np.random.uniform(low=-180.000, high=180.000, size=2000)\n",
    "rdm_lats_lngs = list(lats, lngs)"
   ]
  },
  {
   "cell_type": "code",
   "execution_count": null,
   "metadata": {},
   "outputs": [],
   "source": []
  },
  {
   "cell_type": "code",
   "execution_count": 4,
   "metadata": {},
   "outputs": [],
   "source": []
  },
  {
   "cell_type": "code",
   "execution_count": 7,
   "metadata": {
    "collapsed": true
   },
   "outputs": [
    {
     "name": "stdout",
     "output_type": "stream",
     "text": [
      "1\n",
      "2\n",
      "3\n",
      "4\n",
      "5\n",
      "6\n",
      "7\n",
      "8\n",
      "9\n",
      "10\n"
     ]
    }
   ],
   "source": [
    "#testing sleep function\n",
    "list1=[1,2,3,4,5,6,7,8,9,10]\n",
    "for i in list1:\n",
    "    time.sleep(5)\n",
    "    print(i)\n",
    "#ok cool. gonna use that to not overclock my api calls"
   ]
  },
  {
   "cell_type": "code",
   "execution_count": null,
   "metadata": {},
   "outputs": [],
   "source": [
    "#mapping out the api call code. let's not make the call until i know what i'm doing\n",
    "\n",
    "#1 make bounds of coordinates to iterate through via random (maybe done above)\n",
    "#2 make sure they're pairs (also maybe done above)\n",
    "#3 for loop of coordinates\n",
    "    #3.1 nearest city via citipy\n",
    "    #3.2 make a list of cities (via append)\n",
    "    #3.3 start a dataframe with city names as first column\n",
    "    \n",
    "#make a new cell for API call\n",
    "#1 for loop of city name list\n",
    "    #1.1"
   ]
  },
  {
   "cell_type": "code",
   "execution_count": null,
   "metadata": {},
   "outputs": [],
   "source": []
  }
 ],
 "metadata": {
  "kernelspec": {
   "display_name": "PythonData",
   "language": "python",
   "name": "pythondata"
  },
  "language_info": {
   "codemirror_mode": {
    "name": "ipython",
    "version": 3
   },
   "file_extension": ".py",
   "mimetype": "text/x-python",
   "name": "python",
   "nbconvert_exporter": "python",
   "pygments_lexer": "ipython3",
   "version": "3.7.9"
  }
 },
 "nbformat": 4,
 "nbformat_minor": 4
}
